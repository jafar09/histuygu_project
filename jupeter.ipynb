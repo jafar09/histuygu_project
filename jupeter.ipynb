{
 "cells": [
  {
   "cell_type": "code",
   "execution_count": 99,
   "id": "12f0a7da",
   "metadata": {},
   "outputs": [],
   "source": [
    "import re\n",
    "import gc\n",
    "import os\n",
    "import glob\n",
    "import keras\n",
    "import pandas as pd\n",
    "import numpy  as np\n",
    "import itertools\n",
    "from sklearn.metrics import confusion_matrix\n",
    "from collections import Counter\n",
    "\n",
    "import tensorflow as tf\n",
    "import plotly.express as px\n",
    "import matplotlib.pyplot as plt\n",
    "import plotly.graph_objects as go\n",
    "from plotly.subplots import make_subplots\n",
    "from sklearn.metrics import roc_curve, auc, multilabel_confusion_matrix\n",
    "\n",
    "\n",
    "import keras.backend as K\n",
    "from tensorflow.keras.preprocessing.image import load_img, img_to_array\n",
    "from tensorflow.keras.utils import plot_model\n",
    "from keras.models import Sequential\n",
    "from keras.layers import Dense, Dropout, GlobalMaxPooling2D\n",
    "from tensorflow.keras.optimizers import Adam, SGD\n",
    "from tensorflow.keras.applications import ResNet50\n",
    "from sklearn.model_selection   import train_test_split\n",
    "from keras.preprocessing.image import ImageDataGenerator"
   ]
  },
  {
   "cell_type": "code",
   "execution_count": 100,
   "id": "236ee3d4",
   "metadata": {},
   "outputs": [],
   "source": [
    "# General parameters\n",
    "batch_size = 128\n",
    "epochs = 50\n",
    "pic_size = 48\n",
    "np.random.seed(42)\n",
    "tf.random.set_seed(42)"
   ]
  },
  {
   "cell_type": "code",
   "execution_count": 102,
   "id": "9e960f2c",
   "metadata": {},
   "outputs": [],
   "source": [
    "folder_path = \"C:/Users/Lenovo/OneDrive/Desktop/diplom_ishi/faceproject/images/archive(2)/images/\"\n",
    "\n"
   ]
  },
  {
   "cell_type": "code",
   "execution_count": 103,
   "id": "e9759023",
   "metadata": {},
   "outputs": [],
   "source": [
    "def plot_exp(expression):\n",
    "    plt.style.use('dark_background')\n",
    "    plt.figure(figsize=(12, 12))\n",
    "\n",
    "    image_folder = os.path.join(folder_path, \"train\", expression)\n",
    "    print(\"Tekshirilayotgan yo'l:\", image_folder)  # Debug uchun\n",
    "    image_files = os.listdir(image_folder)\n",
    "\n",
    "    for i in range(min(9, len(image_files))):\n",
    "        plt.subplot(3, 3, i + 1)\n",
    "        img_path = os.path.join(image_folder, image_files[i])\n",
    "        img = load_img(img_path, target_size=(pic_size, pic_size))\n",
    "        plt.imshow(img)\n",
    "        plt.axis('off')\n",
    "\n",
    "    plt.show()\n"
   ]
  },
  {
   "cell_type": "code",
   "execution_count": 104,
   "id": "94604e37",
   "metadata": {},
   "outputs": [
    {
     "name": "stdout",
     "output_type": "stream",
     "text": [
      "Tekshirilayotgan yo'l: C:/Users/Lenovo/OneDrive/Desktop/diplom_ishi/faceproject/images/archive(2)/images/train\\angry\n"
     ]
    },
    {
     "ename": "FileNotFoundError",
     "evalue": "[WinError 3] Системе не удается найти указанный путь: 'C:/Users/Lenovo/OneDrive/Desktop/diplom_ishi/faceproject/images/archive(2)/images/train\\\\angry'",
     "output_type": "error",
     "traceback": [
      "\u001b[1;31m---------------------------------------------------------------------------\u001b[0m",
      "\u001b[1;31mFileNotFoundError\u001b[0m                         Traceback (most recent call last)",
      "Cell \u001b[1;32mIn[104], line 1\u001b[0m\n\u001b[1;32m----> 1\u001b[0m \u001b[43mplot_exp\u001b[49m\u001b[43m(\u001b[49m\u001b[38;5;124;43m'\u001b[39;49m\u001b[38;5;124;43mangry\u001b[39;49m\u001b[38;5;124;43m'\u001b[39;49m\u001b[43m)\u001b[49m\n",
      "Cell \u001b[1;32mIn[103], line 7\u001b[0m, in \u001b[0;36mplot_exp\u001b[1;34m(expression)\u001b[0m\n\u001b[0;32m      5\u001b[0m image_folder \u001b[38;5;241m=\u001b[39m os\u001b[38;5;241m.\u001b[39mpath\u001b[38;5;241m.\u001b[39mjoin(folder_path, \u001b[38;5;124m\"\u001b[39m\u001b[38;5;124mtrain\u001b[39m\u001b[38;5;124m\"\u001b[39m, expression)\n\u001b[0;32m      6\u001b[0m \u001b[38;5;28mprint\u001b[39m(\u001b[38;5;124m\"\u001b[39m\u001b[38;5;124mTekshirilayotgan yo\u001b[39m\u001b[38;5;124m'\u001b[39m\u001b[38;5;124ml:\u001b[39m\u001b[38;5;124m\"\u001b[39m, image_folder)  \u001b[38;5;66;03m# Debug uchun\u001b[39;00m\n\u001b[1;32m----> 7\u001b[0m image_files \u001b[38;5;241m=\u001b[39m \u001b[43mos\u001b[49m\u001b[38;5;241;43m.\u001b[39;49m\u001b[43mlistdir\u001b[49m\u001b[43m(\u001b[49m\u001b[43mimage_folder\u001b[49m\u001b[43m)\u001b[49m\n\u001b[0;32m      9\u001b[0m \u001b[38;5;28;01mfor\u001b[39;00m i \u001b[38;5;129;01min\u001b[39;00m \u001b[38;5;28mrange\u001b[39m(\u001b[38;5;28mmin\u001b[39m(\u001b[38;5;241m9\u001b[39m, \u001b[38;5;28mlen\u001b[39m(image_files))):\n\u001b[0;32m     10\u001b[0m     plt\u001b[38;5;241m.\u001b[39msubplot(\u001b[38;5;241m3\u001b[39m, \u001b[38;5;241m3\u001b[39m, i \u001b[38;5;241m+\u001b[39m \u001b[38;5;241m1\u001b[39m)\n",
      "\u001b[1;31mFileNotFoundError\u001b[0m: [WinError 3] Системе не удается найти указанный путь: 'C:/Users/Lenovo/OneDrive/Desktop/diplom_ishi/faceproject/images/archive(2)/images/train\\\\angry'"
     ]
    },
    {
     "data": {
      "text/plain": [
       "<Figure size 1200x1200 with 0 Axes>"
      ]
     },
     "metadata": {},
     "output_type": "display_data"
    }
   ],
   "source": [
    "plot_exp('angry')"
   ]
  },
  {
   "cell_type": "code",
   "execution_count": null,
   "id": "1de0906d",
   "metadata": {},
   "outputs": [],
   "source": []
  }
 ],
 "metadata": {
  "kernelspec": {
   "display_name": "venv",
   "language": "python",
   "name": "python3"
  },
  "language_info": {
   "codemirror_mode": {
    "name": "ipython",
    "version": 3
   },
   "file_extension": ".py",
   "mimetype": "text/x-python",
   "name": "python",
   "nbconvert_exporter": "python",
   "pygments_lexer": "ipython3",
   "version": "3.10.0"
  }
 },
 "nbformat": 4,
 "nbformat_minor": 5
}
